{
 "cells": [
  {
   "cell_type": "code",
   "execution_count": 29,
   "id": "1fb79f6e",
   "metadata": {
    "slideshow": {
     "slide_type": "skip"
    }
   },
   "outputs": [],
   "source": [
    "import datetime as dt\n",
    "import functools\n",
    "import time\n",
    "\n",
    "\n",
    "from abc import abstractmethod, ABC\n",
    "from dateutil import relativedelta\n",
    "from typing import Any, List, Dict, Optional"
   ]
  },
  {
   "cell_type": "code",
   "execution_count": 30,
   "id": "0ad68c3e",
   "metadata": {
    "slideshow": {
     "slide_type": "skip"
    }
   },
   "outputs": [],
   "source": [
    "import numpy as np\n",
    "import pandas as pd"
   ]
  },
  {
   "cell_type": "markdown",
   "id": "9b287f51",
   "metadata": {
    "slideshow": {
     "slide_type": "slide"
    }
   },
   "source": [
    "# Design patterns\n",
    "\n",
    "##  <font color='green'> Introduction to  decorators </font>"
   ]
  },
  {
   "cell_type": "code",
   "execution_count": 31,
   "id": "505f848b",
   "metadata": {
    "slideshow": {
     "slide_type": "slide"
    }
   },
   "outputs": [
    {
     "name": "stdout",
     "output_type": "stream",
     "text": [
      "16\n",
      "125\n"
     ]
    }
   ],
   "source": [
    "def square(x: float) -> float:\n",
    "    return x ** 2\n",
    "\n",
    "\n",
    "def cube(x: float) -> float:\n",
    "    return x ** 3\n",
    "\n",
    "\n",
    "def fourth_power(x : float) -> float:\n",
    "    return x ** 4\n",
    "\n",
    "\n",
    "print(square(4))\n",
    "print(cube(5))"
   ]
  },
  {
   "cell_type": "code",
   "execution_count": 32,
   "id": "88d3f7f4",
   "metadata": {
    "slideshow": {
     "slide_type": "subslide"
    }
   },
   "outputs": [
    {
     "data": {
      "text/plain": [
       "4"
      ]
     },
     "execution_count": 32,
     "metadata": {},
     "output_type": "execute_result"
    }
   ],
   "source": [
    "def power(x: float, n: int) -> float:\n",
    "    return x ** n\n",
    "\n",
    "\n",
    "power(2, 2)"
   ]
  },
  {
   "cell_type": "code",
   "execution_count": 33,
   "id": "81d35d0a",
   "metadata": {
    "scrolled": true,
    "slideshow": {
     "slide_type": "fragment"
    }
   },
   "outputs": [],
   "source": [
    "#square = power(x, 2)\n",
    "#square(5)"
   ]
  },
  {
   "cell_type": "code",
   "execution_count": 34,
   "id": "d82a129d",
   "metadata": {
    "slideshow": {
     "slide_type": "subslide"
    }
   },
   "outputs": [
    {
     "data": {
      "text/plain": [
       "<function __main__.power(n: int)>"
      ]
     },
     "metadata": {},
     "output_type": "display_data"
    }
   ],
   "source": [
    "# Common function and call this function to create square / cube\n",
    "\n",
    "\n",
    "def power(n: int):\n",
    "    def inner(x: float):\n",
    "        return x ** n\n",
    "\n",
    "    return inner\n",
    "\n",
    "\n",
    "display(power)  # is a function of n"
   ]
  },
  {
   "cell_type": "code",
   "execution_count": 35,
   "id": "7271b845",
   "metadata": {
    "slideshow": {
     "slide_type": "fragment"
    }
   },
   "outputs": [
    {
     "data": {
      "text/plain": [
       "<function __main__.power.<locals>.inner(x: float)>"
      ]
     },
     "execution_count": 35,
     "metadata": {},
     "output_type": "execute_result"
    }
   ],
   "source": [
    "power(2)"
   ]
  },
  {
   "cell_type": "code",
   "execution_count": 36,
   "id": "ea66cbb5",
   "metadata": {
    "slideshow": {
     "slide_type": "fragment"
    }
   },
   "outputs": [
    {
     "data": {
      "text/plain": [
       "<function __main__.power.<locals>.inner(x: float)>"
      ]
     },
     "metadata": {},
     "output_type": "display_data"
    }
   ],
   "source": [
    "square = power(2)\n",
    "display(square)"
   ]
  },
  {
   "cell_type": "code",
   "execution_count": 37,
   "id": "92ab6e3c",
   "metadata": {
    "slideshow": {
     "slide_type": "subslide"
    }
   },
   "outputs": [
    {
     "name": "stdout",
     "output_type": "stream",
     "text": [
      "9\n"
     ]
    }
   ],
   "source": [
    "print(square(-3))"
   ]
  },
  {
   "cell_type": "code",
   "execution_count": 38,
   "id": "f755fcce",
   "metadata": {
    "slideshow": {
     "slide_type": "fragment"
    }
   },
   "outputs": [
    {
     "data": {
      "text/plain": [
       "1000"
      ]
     },
     "execution_count": 38,
     "metadata": {},
     "output_type": "execute_result"
    }
   ],
   "source": [
    "cube = power(3)\n",
    "cube(10)"
   ]
  },
  {
   "cell_type": "markdown",
   "id": "f66ef070",
   "metadata": {
    "slideshow": {
     "slide_type": "slide"
    }
   },
   "source": [
    "# First class functions language"
   ]
  },
  {
   "cell_type": "code",
   "execution_count": 39,
   "id": "d0586e34",
   "metadata": {
    "slideshow": {
     "slide_type": "fragment"
    }
   },
   "outputs": [
    {
     "ename": "IndentationError",
     "evalue": "unexpected indent (3139590153.py, line 6)",
     "output_type": "error",
     "traceback": [
      "\u001b[1;36m  Input \u001b[1;32mIn [39]\u001b[1;36m\u001b[0m\n\u001b[1;33m    def inner(a: float, b: float) -> float:\u001b[0m\n\u001b[1;37m    ^\u001b[0m\n\u001b[1;31mIndentationError\u001b[0m\u001b[1;31m:\u001b[0m unexpected indent\n"
     ]
    }
   ],
   "source": [
    "# First class functions language: when functions in that language are treated like any other variable, i.e. we can pass\n",
    "# a function as an argument in some other function, etc.\n",
    "\n",
    "# TO COMPLETE double function\n",
    "\n",
    "    def inner(a: float, b: float) -> float:\n",
    "        return f(a, b) * 2\n",
    "\n",
    "\n",
    "\n",
    "display(double)  # is a function of f"
   ]
  },
  {
   "cell_type": "code",
   "execution_count": 40,
   "id": "bf48c102",
   "metadata": {
    "slideshow": {
     "slide_type": "slide"
    }
   },
   "outputs": [],
   "source": [
    "def add(a: float, b: float) -> float:\n",
    "    return a + b\n",
    "\n",
    "\n",
    "def subtract(a: float, b: float) -> float:\n",
    "    return a - b\n",
    "\n",
    "\n",
    "def multiply(a: float, b: float) -> float:\n",
    "    return a * b\n",
    "\n",
    "\n",
    "def divide(a: float, b: float) -> float:\n",
    "    return a / b"
   ]
  },
  {
   "cell_type": "code",
   "execution_count": 41,
   "id": "b9fab0ff",
   "metadata": {
    "slideshow": {
     "slide_type": "subslide"
    }
   },
   "outputs": [
    {
     "data": {
      "text/plain": [
       "<function __main__.double.<locals>.inner(a: float, b: float) -> float>"
      ]
     },
     "execution_count": 41,
     "metadata": {},
     "output_type": "execute_result"
    }
   ],
   "source": [
    "double(add)  #  is a function of (a, b)"
   ]
  },
  {
   "cell_type": "markdown",
   "id": "41717d13",
   "metadata": {
    "slideshow": {
     "slide_type": "fragment"
    }
   },
   "source": [
    "Composition of functions:\n",
    "$$ f(x, y) = x + y $$\n",
    "\n",
    "$$ g(x) = 2 \\cdot x $$\n",
    "\n",
    "So, basically `double(add)` is this composition: $ g(f(x, y)) = (g\\circ f)(x, y)$"
   ]
  },
  {
   "cell_type": "code",
   "execution_count": 42,
   "id": "6642aabc",
   "metadata": {
    "slideshow": {
     "slide_type": "fragment"
    }
   },
   "outputs": [
    {
     "data": {
      "text/plain": [
       "<function __main__.double.<locals>.inner(a: float, b: float) -> float>"
      ]
     },
     "execution_count": 42,
     "metadata": {},
     "output_type": "execute_result"
    }
   ],
   "source": [
    "doubled_addition = double(add)\n",
    "doubled_addition"
   ]
  },
  {
   "cell_type": "code",
   "execution_count": 43,
   "id": "63f31bfb",
   "metadata": {
    "slideshow": {
     "slide_type": "fragment"
    }
   },
   "outputs": [],
   "source": [
    "doubled_addition = double(add)\n",
    "doubled_subtraction = double(subtract)\n",
    "doubled_multiplication = double(multiply)\n",
    "doubled_division = double(divide)"
   ]
  },
  {
   "cell_type": "code",
   "execution_count": 44,
   "id": "2ec7a7d7",
   "metadata": {
    "slideshow": {
     "slide_type": "subslide"
    }
   },
   "outputs": [
    {
     "name": "stdout",
     "output_type": "stream",
     "text": [
      "32\n"
     ]
    }
   ],
   "source": [
    "print(doubled_addition(6, 10))\n",
    "\n",
    "# 6 + 10 = 16\n",
    "# 16 * 2 = 32"
   ]
  },
  {
   "cell_type": "code",
   "execution_count": 45,
   "id": "ddc0dd9f",
   "metadata": {
    "slideshow": {
     "slide_type": "fragment"
    }
   },
   "outputs": [
    {
     "data": {
      "text/plain": [
       "32"
      ]
     },
     "execution_count": 45,
     "metadata": {},
     "output_type": "execute_result"
    }
   ],
   "source": [
    "double(add)(6, 10)"
   ]
  },
  {
   "cell_type": "code",
   "execution_count": 46,
   "id": "314d899c",
   "metadata": {
    "scrolled": true,
    "slideshow": {
     "slide_type": "fragment"
    }
   },
   "outputs": [
    {
     "data": {
      "text/plain": [
       "1.2"
      ]
     },
     "execution_count": 46,
     "metadata": {},
     "output_type": "execute_result"
    }
   ],
   "source": [
    "doubled_division(6, 10)\n",
    "# 6 / 10 = 0.6\n",
    "# 0.6 * 2 = 1.2"
   ]
  },
  {
   "cell_type": "markdown",
   "id": "6bfc9235",
   "metadata": {
    "slideshow": {
     "slide_type": "slide"
    }
   },
   "source": [
    "## Decorators"
   ]
  },
  {
   "cell_type": "code",
   "execution_count": 47,
   "id": "6ae5279c",
   "metadata": {
    "slideshow": {
     "slide_type": "fragment"
    }
   },
   "outputs": [],
   "source": [
    "def double(f):\n",
    "    def inner(a: float, b: float) -> float:\n",
    "        return f(a, b) * 2\n",
    "    return inner"
   ]
  },
  {
   "cell_type": "code",
   "execution_count": 148,
   "id": "ace11c4d",
   "metadata": {},
   "outputs": [
    {
     "data": {
      "text/plain": [
       "<function __main__.double.<locals>.inner(a: float, b: float) -> float>"
      ]
     },
     "execution_count": 148,
     "metadata": {},
     "output_type": "execute_result"
    }
   ],
   "source": [
    "double(add)"
   ]
  },
  {
   "cell_type": "code",
   "execution_count": 150,
   "id": "5b999fca",
   "metadata": {
    "slideshow": {
     "slide_type": "fragment"
    }
   },
   "outputs": [
    {
     "data": {
      "text/plain": [
       "<function __main__.double.<locals>.inner(a: float, b: float) -> float>"
      ]
     },
     "metadata": {},
     "output_type": "display_data"
    },
    {
     "data": {
      "text/plain": [
       "60"
      ]
     },
     "execution_count": 150,
     "metadata": {},
     "output_type": "execute_result"
    }
   ],
   "source": [
    "@double\n",
    "def decorated_addition(a, b):\n",
    "    return a + b\n",
    "\n",
    "display(decorated_addition)\n",
    "\n",
    "decorated_addition(10, 20)\n",
    "#decorated_addition('a','b')"
   ]
  },
  {
   "cell_type": "markdown",
   "id": "a614922b",
   "metadata": {
    "slideshow": {
     "slide_type": "subslide"
    }
   },
   "source": [
    "## HTML application\n",
    "\n",
    " <em> italics </em> $\\Longleftrightarrow$ `<em> italics </em>`\n",
    " \n",
    "\n",
    " <b> boldface </b> $ \\Longleftrightarrow$ `<b> boldface </b>`"
   ]
  },
  {
   "cell_type": "code",
   "execution_count": 49,
   "id": "4e5f205c",
   "metadata": {
    "slideshow": {
     "slide_type": "fragment"
    }
   },
   "outputs": [
    {
     "data": {
      "text/plain": [
       "'<em> qwerty </em>'"
      ]
     },
     "execution_count": 49,
     "metadata": {},
     "output_type": "execute_result"
    }
   ],
   "source": [
    "def make_italics(s: str) -> str:\n",
    "    return f\"<em> {s} </em>\"\n",
    "\n",
    "make_italics(\"qwerty\")"
   ]
  },
  {
   "cell_type": "code",
   "execution_count": 50,
   "id": "ec1807e6",
   "metadata": {
    "slideshow": {
     "slide_type": "fragment"
    }
   },
   "outputs": [
    {
     "data": {
      "text/plain": [
       "'<b> qwerty </b>'"
      ]
     },
     "execution_count": 50,
     "metadata": {},
     "output_type": "execute_result"
    }
   ],
   "source": [
    "def make_bold(s: str) -> str:\n",
    "    return f\"<b> {s} </b>\"\n",
    "\n",
    "make_bold(\"qwerty\")"
   ]
  },
  {
   "cell_type": "markdown",
   "id": "6191d896",
   "metadata": {
    "slideshow": {
     "slide_type": "notes"
    }
   },
   "source": [
    "But what if I want to combine them?"
   ]
  },
  {
   "cell_type": "code",
   "execution_count": 154,
   "id": "b2394b70",
   "metadata": {
    "slideshow": {
     "slide_type": "subslide"
    }
   },
   "outputs": [
    {
     "name": "stdout",
     "output_type": "stream",
     "text": [
      "<b> <em> qwerty </em> </b>\n"
     ]
    }
   ],
   "source": [
    "def make_bold_italics(s: str):\n",
    "    italics_string = make_italics(s)\n",
    "    bold_italics_s = make_bold(italics_string)\n",
    "    return bold_italics_s\n",
    "\n",
    "\n",
    "print(make_bold_italics(\"qwerty\"))\n"
   ]
  },
  {
   "cell_type": "markdown",
   "id": "25992d8a",
   "metadata": {
    "slideshow": {
     "slide_type": "fragment"
    }
   },
   "source": [
    "But what if I want the outer tag to be *italics* and the inner tag to be **bold**?\n",
    "\n",
    "I would have to define another function similar to `make_bold_italics`"
   ]
  },
  {
   "cell_type": "code",
   "execution_count": 52,
   "id": "2f358382",
   "metadata": {
    "slideshow": {
     "slide_type": "subslide"
    }
   },
   "outputs": [],
   "source": [
    "def italics(f):\n",
    "    def inner(string: str):\n",
    "        return f\"<em> {f(string)} </em>\"\n",
    "\n",
    "    return inner\n",
    "\n",
    "\n",
    "def bold(f):\n",
    "    def inner(string: str):\n",
    "        return f\"<b> {f(string)} </b>\"\n",
    "\n",
    "    return inner"
   ]
  },
  {
   "cell_type": "code",
   "execution_count": 53,
   "id": "614db27b",
   "metadata": {
    "slideshow": {
     "slide_type": "fragment"
    }
   },
   "outputs": [
    {
     "data": {
      "text/plain": [
       "'<b> <em> asdf </em> </b>'"
      ]
     },
     "execution_count": 53,
     "metadata": {},
     "output_type": "execute_result"
    }
   ],
   "source": [
    "def simple(string):\n",
    "    return string\n",
    "\n",
    "\n",
    "bold(italics(simple))(\"asdf\")"
   ]
  },
  {
   "cell_type": "code",
   "execution_count": 54,
   "id": "ce8a5727",
   "metadata": {
    "slideshow": {
     "slide_type": "subslide"
    }
   },
   "outputs": [
    {
     "name": "stdout",
     "output_type": "stream",
     "text": [
      "<b> <em> asdf </em> </b>\n",
      "<em> <b> asdf </b> </em>\n"
     ]
    }
   ],
   "source": [
    "bi = bold(italics(simple))\n",
    "ib = italics(bold(simple))\n",
    "\n",
    "print(bi(\"asdf\"))\n",
    "print(ib('asdf'))"
   ]
  },
  {
   "cell_type": "code",
   "execution_count": 55,
   "id": "e5feea9f",
   "metadata": {
    "slideshow": {
     "slide_type": "subslide"
    }
   },
   "outputs": [
    {
     "data": {
      "text/plain": [
       "'<b> asdf </b>'"
      ]
     },
     "execution_count": 55,
     "metadata": {},
     "output_type": "execute_result"
    }
   ],
   "source": [
    "@bold\n",
    "def decorate_string(x):\n",
    "    return x\n",
    "\n",
    "decorate_string(\"asdf\")"
   ]
  },
  {
   "cell_type": "code",
   "execution_count": 56,
   "id": "00f76b49",
   "metadata": {
    "slideshow": {
     "slide_type": "fragment"
    }
   },
   "outputs": [
    {
     "data": {
      "text/plain": [
       "'<b> <em> asdf </em> </b>'"
      ]
     },
     "execution_count": 56,
     "metadata": {},
     "output_type": "execute_result"
    }
   ],
   "source": [
    "@bold\n",
    "@italics\n",
    "def decorate_string(x):\n",
    "    return x\n",
    "\n",
    "decorate_string(\"asdf\")"
   ]
  },
  {
   "cell_type": "code",
   "execution_count": 75,
   "id": "76738409",
   "metadata": {
    "slideshow": {
     "slide_type": "fragment"
    }
   },
   "outputs": [
    {
     "data": {
      "text/plain": [
       "'<em> <b> asdf </b> </em>'"
      ]
     },
     "execution_count": 75,
     "metadata": {},
     "output_type": "execute_result"
    }
   ],
   "source": [
    "@italics\n",
    "@bold\n",
    "def decorate_string(x):\n",
    "    return x\n",
    "\n",
    "decorate_string(\"asdf\")"
   ]
  },
  {
   "cell_type": "markdown",
   "id": "25934f16",
   "metadata": {
    "slideshow": {
     "slide_type": "slide"
    }
   },
   "source": [
    "# Timing example"
   ]
  },
  {
   "cell_type": "code",
   "execution_count": 82,
   "id": "07fd61c4",
   "metadata": {
    "slideshow": {
     "slide_type": "fragment"
    }
   },
   "outputs": [
    {
     "name": "stdout",
     "output_type": "stream",
     "text": [
      "Iterating over a list took 0.03 seconds.\n"
     ]
    }
   ],
   "source": [
    "N = 1000000\n",
    "\n",
    "start = time.perf_counter()\n",
    "\n",
    "for i in range(N):\n",
    "        pass\n",
    "\n",
    "end = time.perf_counter()\n",
    "\n",
    "print(f\"Iterating over a list took {end - start:.2f} seconds.\")"
   ]
  },
  {
   "cell_type": "code",
   "execution_count": 95,
   "id": "9462237d",
   "metadata": {
    "slideshow": {
     "slide_type": "fragment"
    }
   },
   "outputs": [],
   "source": [
    "def iterating(N=1000000):\n",
    "    start = time.perf_counter()\n",
    "    \n",
    "    for i in range(N):\n",
    "        pass\n",
    "    \n",
    "    end = time.perf_counter()\n",
    "\n",
    "    print(f\"Function iterating finished {end - start:.2f} seconds.\")"
   ]
  },
  {
   "cell_type": "code",
   "execution_count": 99,
   "id": "608fce9c",
   "metadata": {
    "slideshow": {
     "slide_type": "fragment"
    }
   },
   "outputs": [
    {
     "name": "stdout",
     "output_type": "stream",
     "text": [
      "Function iterating finished 0.02 seconds.\n"
     ]
    }
   ],
   "source": [
    "iterating(N=1000000)"
   ]
  },
  {
   "cell_type": "code",
   "execution_count": 60,
   "id": "246a90ec",
   "metadata": {
    "slideshow": {
     "slide_type": "subslide"
    }
   },
   "outputs": [
    {
     "data": {
      "text/plain": [
       "<function __main__.timing(f)>"
      ]
     },
     "execution_count": 60,
     "metadata": {},
     "output_type": "execute_result"
    }
   ],
   "source": [
    "def timing(f):\n",
    "    @functools.wraps(f)\n",
    "    def inner(*args, **kwargs):\n",
    "        start = time.perf_counter()\n",
    "        val = f(*args, **kwargs)\n",
    "        end = time.perf_counter()\n",
    "\n",
    "        print(f\"Function {f.__qualname__} finished in {end - start:.2f} seconds.\")\n",
    "        return val\n",
    "\n",
    "    return inner\n",
    "\n",
    "timing"
   ]
  },
  {
   "cell_type": "code",
   "execution_count": 98,
   "id": "b4cb5905",
   "metadata": {
    "slideshow": {
     "slide_type": "fragment"
    }
   },
   "outputs": [
    {
     "data": {
      "text/plain": [
       "<function __main__.create_data(n: int)>"
      ]
     },
     "metadata": {},
     "output_type": "display_data"
    },
    {
     "name": "stdout",
     "output_type": "stream",
     "text": [
      "Function create_data finished in 0.04 seconds.\n"
     ]
    }
   ],
   "source": [
    "@timing\n",
    "def create_data(n: int):\n",
    "    return [i for i in range(1, int(n))]\n",
    "\n",
    "display(create_data)\n",
    "create_data(n=1000000);"
   ]
  },
  {
   "cell_type": "code",
   "execution_count": 62,
   "id": "cdfdaf9f",
   "metadata": {
    "slideshow": {
     "slide_type": "subslide"
    }
   },
   "outputs": [],
   "source": [
    "class PositiveIntegersGenerator:\n",
    "    \n",
    "    @timing\n",
    "    def run(self, n) -> list:\n",
    "        return [i for i in range(1, int(n))]"
   ]
  },
  {
   "cell_type": "code",
   "execution_count": 63,
   "id": "1e6601f0",
   "metadata": {
    "slideshow": {
     "slide_type": "fragment"
    }
   },
   "outputs": [
    {
     "name": "stdout",
     "output_type": "stream",
     "text": [
      "Function PositiveIntegersGenerator.run finished in 0.04 seconds.\n"
     ]
    }
   ],
   "source": [
    "positive_integer_list_generator = PositiveIntegersGenerator()\n",
    "positive_integer_list_generator.run(n=1000000);"
   ]
  },
  {
   "cell_type": "markdown",
   "id": "fb11c2f0",
   "metadata": {
    "slideshow": {
     "slide_type": "slide"
    }
   },
   "source": [
    "## Classmethod"
   ]
  },
  {
   "cell_type": "code",
   "execution_count": 64,
   "id": "bdaf24e3",
   "metadata": {
    "slideshow": {
     "slide_type": "fragment"
    }
   },
   "outputs": [
    {
     "data": {
      "text/plain": [
       "relativedelta(months=+6, days=+28)"
      ]
     },
     "execution_count": 64,
     "metadata": {},
     "output_type": "execute_result"
    }
   ],
   "source": [
    "class Date:\n",
    "    def __init__(self, date: str):\n",
    "        \"\"\"\n",
    "        Args:\n",
    "            string in UK format, i.e. \"day-month-year\"\n",
    "        \"\"\"\n",
    "        self.date = date\n",
    "\n",
    "    @classmethod\n",
    "    def from_us_format(cls, date: str):\n",
    "        \"\"\"\n",
    "        This method is used as a constructor\n",
    "        Args:\n",
    "            date: in US format, i.e.\n",
    "                  \"year-month-date\"\n",
    "        \n",
    "        \"\"\"\n",
    "        years, months, days = date.split(\"-\")\n",
    "        date_uk_format = \"-\".join([days, months, years])\n",
    "        return cls(date_uk_format)\n",
    "\n",
    "    def time_until_Christmas(self):\n",
    "        \"\"\"This could be implemented as a staticmethod also\"\"\"\n",
    "\n",
    "        date_format = \"%d-%m-%Y\"\n",
    "        current_year = self.date.split(\"-\")[2]\n",
    "        christmas_date = f\"25-12-{current_year}\"\n",
    "\n",
    "        current_datetime = dt.datetime.strptime(self.date, date_format)\n",
    "        christmas_datetime = dt.datetime.strptime(christmas_date, date_format)\n",
    "\n",
    "        return relativedelta.relativedelta(christmas_datetime, current_datetime)\n"
   ]
  },
  {
   "cell_type": "code",
   "execution_count": 100,
   "id": "6134a52f",
   "metadata": {
    "slideshow": {
     "slide_type": "subslide"
    }
   },
   "outputs": [
    {
     "data": {
      "text/plain": [
       "relativedelta(months=+6, days=+28)"
      ]
     },
     "execution_count": 100,
     "metadata": {},
     "output_type": "execute_result"
    }
   ],
   "source": [
    "\n",
    "date_str = \"27-05-2022\"\n",
    "date_obj = Date(date_str)\n",
    "date_obj.time_until_Christmas()"
   ]
  },
  {
   "cell_type": "code",
   "execution_count": 114,
   "id": "9ae37a92",
   "metadata": {
    "slideshow": {
     "slide_type": "fragment"
    }
   },
   "outputs": [
    {
     "name": "stdout",
     "output_type": "stream",
     "text": [
      "<__main__.Date object at 0x000001BD4E87CA00>\n",
      "27-05-2022\n"
     ]
    },
    {
     "data": {
      "text/plain": [
       "relativedelta(months=+6, days=+28)"
      ]
     },
     "execution_count": 114,
     "metadata": {},
     "output_type": "execute_result"
    }
   ],
   "source": [
    "date_str = \"2022-05-27\"\n",
    "\n",
    "\n",
    "date_obj = Date.from_us_format(date_str)\n",
    "\n",
    "\n",
    "print(date_obj)\n",
    "print(date_obj.date)\n",
    "\n",
    "\n",
    "date_obj.time_until_Christmas()"
   ]
  },
  {
   "cell_type": "markdown",
   "id": "02504f15",
   "metadata": {},
   "source": [
    "## DataFrame example"
   ]
  },
  {
   "cell_type": "code",
   "execution_count": 102,
   "id": "ac77b38b",
   "metadata": {
    "slideshow": {
     "slide_type": "subslide"
    }
   },
   "outputs": [],
   "source": [
    "class DataFrameStats:\n",
    "    def __init__(self, df: pd.DataFrame):\n",
    "        self.df = df\n",
    "\n",
    "    @classmethod\n",
    "    def from_csv(cls, csv_path: str):\n",
    "        df = pd.read_csv(csv_path)\n",
    "        return cls(df)\n",
    "\n",
    "    def get_shape(self):\n",
    "        return self.df.shape"
   ]
  },
  {
   "cell_type": "code",
   "execution_count": 111,
   "id": "a16839f1",
   "metadata": {
    "slideshow": {
     "slide_type": "subslide"
    }
   },
   "outputs": [
    {
     "data": {
      "text/html": [
       "<div>\n",
       "<style scoped>\n",
       "    .dataframe tbody tr th:only-of-type {\n",
       "        vertical-align: middle;\n",
       "    }\n",
       "\n",
       "    .dataframe tbody tr th {\n",
       "        vertical-align: top;\n",
       "    }\n",
       "\n",
       "    .dataframe thead th {\n",
       "        text-align: right;\n",
       "    }\n",
       "</style>\n",
       "<table border=\"1\" class=\"dataframe\">\n",
       "  <thead>\n",
       "    <tr style=\"text-align: right;\">\n",
       "      <th></th>\n",
       "      <th>name</th>\n",
       "      <th>last name</th>\n",
       "    </tr>\n",
       "  </thead>\n",
       "  <tbody>\n",
       "    <tr>\n",
       "      <th>0</th>\n",
       "      <td>Bob</td>\n",
       "      <td>Brown</td>\n",
       "    </tr>\n",
       "    <tr>\n",
       "      <th>1</th>\n",
       "      <td>Alice</td>\n",
       "      <td>Alison</td>\n",
       "    </tr>\n",
       "    <tr>\n",
       "      <th>2</th>\n",
       "      <td>John</td>\n",
       "      <td>Doe</td>\n",
       "    </tr>\n",
       "  </tbody>\n",
       "</table>\n",
       "</div>"
      ],
      "text/plain": [
       "    name last name\n",
       "0    Bob     Brown\n",
       "1  Alice    Alison\n",
       "2   John       Doe"
      ]
     },
     "metadata": {},
     "output_type": "display_data"
    }
   ],
   "source": [
    "df = pd.DataFrame(({\"name\": [\"Bob\", \"Alice\", \"John\"], \"last name\":[\"Brown\", \"Alison\", \"Doe\"]}))\n",
    "\n",
    "display(df)\n"
   ]
  },
  {
   "cell_type": "code",
   "execution_count": 157,
   "id": "782feaac",
   "metadata": {
    "slideshow": {
     "slide_type": "fragment"
    }
   },
   "outputs": [
    {
     "name": "stdout",
     "output_type": "stream",
     "text": [
      "<__main__.DataFrameStats object at 0x000001BD512D24F0>\n",
      "\n",
      "\n",
      "(3, 2)\n"
     ]
    }
   ],
   "source": [
    "dataframe_stats_obj = DataFrameStats(df)\n",
    "print(dataframe_stats_obj)\n",
    "print('\\n')\n",
    "print(dataframe_stats_obj.get_shape())"
   ]
  },
  {
   "cell_type": "code",
   "execution_count": 166,
   "id": "453a705d",
   "metadata": {},
   "outputs": [
    {
     "name": "stdout",
     "output_type": "stream",
     "text": [
      "<__main__.DataFrameStats object at 0x000001BD512D24F0>\n",
      "\n",
      "\n",
      "(100, 4)\n"
     ]
    }
   ],
   "source": [
    "dataframe_stats_obj = DataFrameStats.from_csv(\"./random_features.csv\")\n",
    "print(dataframe_stats_obj)\n",
    "print('\\n')\n",
    "print(dataframe_stats_obj.get_shape())"
   ]
  },
  {
   "cell_type": "markdown",
   "id": "debd0f75",
   "metadata": {
    "slideshow": {
     "slide_type": "slide"
    }
   },
   "source": [
    "# Abstract method decorator"
   ]
  },
  {
   "cell_type": "code",
   "execution_count": 115,
   "id": "5c61d847",
   "metadata": {
    "slideshow": {
     "slide_type": "fragment"
    }
   },
   "outputs": [],
   "source": [
    "\n",
    "class IDataGenerator(ABC):\n",
    "    @abstractmethod\n",
    "    def run():\n",
    "        return NotImplemented\n",
    "\n",
    "\n",
    "class FloatListGenerator(IDataGenerator):\n",
    "    def run(self, n):\n",
    "        np.random.seed(42)\n",
    "        return np.random.random(size=(n,))\n",
    "\n",
    "\n",
    "class PositiveIntegerListGenerator(IDataGenerator):\n",
    "    \n",
    "    def run(self, n):\n",
    "        np.random.seed(42)\n",
    "        return np.random.randint(n, size=(n,))\n",
    "    \n"
   ]
  },
  {
   "cell_type": "code",
   "execution_count": 113,
   "id": "fa249dc4",
   "metadata": {
    "slideshow": {
     "slide_type": "fragment"
    }
   },
   "outputs": [
    {
     "data": {
      "text/plain": [
       "array([6, 3, 7, 4, 6, 9, 2, 6, 7, 4])"
      ]
     },
     "execution_count": 113,
     "metadata": {},
     "output_type": "execute_result"
    }
   ],
   "source": [
    "PositiveIntegerListGenerator().run(n=10)"
   ]
  },
  {
   "cell_type": "markdown",
   "id": "18f451b5",
   "metadata": {
    "slideshow": {
     "slide_type": "slide"
    }
   },
   "source": [
    "# Staticmethod/property decorator"
   ]
  },
  {
   "cell_type": "code",
   "execution_count": 128,
   "id": "6d2c087e",
   "metadata": {
    "slideshow": {
     "slide_type": "subslide"
    }
   },
   "outputs": [],
   "source": [
    "class Temperature:\n",
    "    def __init__(self, temp):\n",
    "        self._temperature = temp\n",
    "        \n",
    "    def to_kelvin(self):\n",
    "        return self.celsius_to_kelvin(self._temperature)\n",
    "    \n",
    "    @staticmethod\n",
    "    def celsius_to_kelvin(t: float) -> float:\n",
    "        \"\"\"\n",
    "        Args:\n",
    "            t: temperature in Celsius\n",
    "        Returns:\n",
    "            temperature in Kelvin\n",
    "        \"\"\"\n",
    "        return t - 273\n",
    "\n",
    "    @property\n",
    "    def temperature(self):\n",
    "        print(\"Get temperature\")\n",
    "        return self._temperature\n",
    "\n",
    "    @temperature.setter\n",
    "    def temperature(self, value):\n",
    "        print(\"Set temperature\")\n",
    "        self._temperature = value"
   ]
  },
  {
   "cell_type": "code",
   "execution_count": 151,
   "id": "275a43c9",
   "metadata": {
    "slideshow": {
     "slide_type": "fragment"
    }
   },
   "outputs": [],
   "source": [
    "a = Temperature(20)"
   ]
  },
  {
   "cell_type": "code",
   "execution_count": 132,
   "id": "62c2f55b",
   "metadata": {
    "slideshow": {
     "slide_type": "fragment"
    }
   },
   "outputs": [
    {
     "data": {
      "text/plain": [
       "-253"
      ]
     },
     "execution_count": 132,
     "metadata": {},
     "output_type": "execute_result"
    }
   ],
   "source": [
    "a.to_kelvin()"
   ]
  },
  {
   "cell_type": "code",
   "execution_count": 138,
   "id": "bfe6684e",
   "metadata": {
    "slideshow": {
     "slide_type": "fragment"
    }
   },
   "outputs": [
    {
     "name": "stdout",
     "output_type": "stream",
     "text": [
      "Set temperature\n"
     ]
    }
   ],
   "source": [
    "a.temperature = 100"
   ]
  },
  {
   "cell_type": "code",
   "execution_count": 139,
   "id": "fe71d8da",
   "metadata": {
    "slideshow": {
     "slide_type": "fragment"
    }
   },
   "outputs": [
    {
     "name": "stdout",
     "output_type": "stream",
     "text": [
      "Get temperature\n",
      "100\n"
     ]
    }
   ],
   "source": [
    "print(a.temperature)"
   ]
  },
  {
   "cell_type": "markdown",
   "id": "109244a5",
   "metadata": {
    "slideshow": {
     "slide_type": "slide"
    }
   },
   "source": [
    "# Currency converter example"
   ]
  },
  {
   "cell_type": "code",
   "execution_count": 147,
   "id": "1b65cbde",
   "metadata": {
    "slideshow": {
     "slide_type": "subslide"
    }
   },
   "outputs": [
    {
     "data": {
      "text/plain": [
       "8.333333333333334"
      ]
     },
     "execution_count": 147,
     "metadata": {},
     "output_type": "execute_result"
    }
   ],
   "source": [
    "# REFERENCE CURRENCY HERE is EUR\n",
    "\n",
    "d = {\n",
    "    \"EUR\": 1,\n",
    "    \"USD\": 1.2,\n",
    "    \"GBP\": -0.8,\n",
    "    \"CAD\": 0\n",
    "}\n",
    "\n",
    "# Convert USD into EUR\n",
    "\n",
    "(d['EUR'] / d['USD']) * 10"
   ]
  },
  {
   "cell_type": "code",
   "execution_count": null,
   "id": "75a320bf",
   "metadata": {
    "slideshow": {
     "slide_type": "subslide"
    }
   },
   "outputs": [],
   "source": [
    "class CurrencyConverter:\n",
    "    \n",
    "    def __init__(self, currency_src: str, currency_dst: str, exchange_currency_dictionary: Dict):\n",
    "        self.currency_src = currency_src\n",
    "        self.currency_dst = currency_dst\n",
    "        self.exchange_currency_dictionary = exchange_currency_dictionary\n",
    "    \n",
    "    \n",
    "    def convert(self, amount):\n",
    "        converted_amount = self.exchange_ratio * amount\n",
    "        return converted_amount\n",
    "        \n",
    "    @property\n",
    "    def exchange_ratio(self):\n",
    "        ratio = self.exchange_currency_dictionary[self.currency_dst] / self.exchange_currency_dictionary[self.currency_src]\n",
    "        return ratio"
   ]
  },
  {
   "cell_type": "code",
   "execution_count": 155,
   "id": "ec74ffdf",
   "metadata": {
    "slideshow": {
     "slide_type": "subslide"
    }
   },
   "outputs": [],
   "source": [
    "class CurrencyConverter:\n",
    "    \n",
    "    def __init__(self, currency_src: str, currency_dst: str, exchange_currency_dictionary: Dict):\n",
    "        self.currency_src = currency_src\n",
    "        self.currency_dst = currency_dst\n",
    "        self.exchange_currency_dictionary = exchange_currency_dictionary\n",
    "    \n",
    "    \n",
    "    def convert(self, amount):\n",
    "        converted_amount = self.exchange_ratio * amount\n",
    "        return converted_amount\n",
    "        \n",
    "    @property\n",
    "    #@validate_exchange_ratio\n",
    "    def exchange_ratio(self):\n",
    "        ratio = self.exchange_currency_dictionary[self.currency_dst] / self.exchange_currency_dictionary[self.currency_src]\n",
    "        return ratio"
   ]
  },
  {
   "cell_type": "code",
   "execution_count": 73,
   "id": "32134005",
   "metadata": {
    "slideshow": {
     "slide_type": "subslide"
    }
   },
   "outputs": [],
   "source": [
    "def validate_exchange_ratio(f):\n",
    "    @functools.wraps(f)\n",
    "    def inner(currency_converter):\n",
    "        for currency in [currency_converter.currency_src, currency_converter.currency_dst]:\n",
    "            currency_value = currency_converter.exchange_currency_dictionary.get(currency, None)\n",
    "            \n",
    "            if currency_value is None:\n",
    "                raise Exception(f\"Currency {currency} does not exist in the exchange_currency_base\")\n",
    "                \n",
    "            else:\n",
    "                if currency_value == 0:\n",
    "                    raise ValueError(f\"Currency ({currency}) value in the exchange_currency_base should not be zero\")\n",
    "                if currency_value < 0:\n",
    "                    raise ValueError (f\"Currency ({currency}) value in the exchange_currency_base should not be negative\")\n",
    "            \n",
    "        return f(currency_converter)\n",
    "    return inner\n"
   ]
  },
  {
   "cell_type": "code",
   "execution_count": 156,
   "id": "5e7b09e0",
   "metadata": {
    "slideshow": {
     "slide_type": "subslide"
    }
   },
   "outputs": [],
   "source": [
    "class CurrencyConverter:\n",
    "    \n",
    "    def __init__(self, currency_src: str, currency_dst: str, exchange_currency_dictionary: Dict):\n",
    "        self.currency_src = currency_src\n",
    "        self.currency_dst = currency_dst\n",
    "        self.exchange_currency_dictionary = exchange_currency_dictionary\n",
    "    \n",
    "    \n",
    "    def convert(self, amount):\n",
    "        converted_amount = self.exchange_ratio * amount\n",
    "        return converted_amount\n",
    "        \n",
    "    @property\n",
    "    @validate_exchange_ratio\n",
    "    def exchange_ratio(self):\n",
    "        ratio = self.exchange_currency_dictionary[self.currency_dst] / self.exchange_currency_dictionary[self.currency_src]\n",
    "        return ratio"
   ]
  },
  {
   "cell_type": "code",
   "execution_count": 145,
   "id": "1c7f0b6a",
   "metadata": {
    "slideshow": {
     "slide_type": "subslide"
    }
   },
   "outputs": [],
   "source": [
    "d = {\n",
    "    \"EUR\": 1,\n",
    "    \"USD\": 1.2,\n",
    "    \"GBP\": -0.8,\n",
    "    \"CAD\": 0\n",
    "}\n"
   ]
  },
  {
   "cell_type": "code",
   "execution_count": 153,
   "id": "9371353b",
   "metadata": {
    "slideshow": {
     "slide_type": "fragment"
    }
   },
   "outputs": [
    {
     "data": {
      "text/plain": [
       "12.0"
      ]
     },
     "execution_count": 153,
     "metadata": {},
     "output_type": "execute_result"
    }
   ],
   "source": [
    "currency_converter = CurrencyConverter(currency_src='EUR', currency_dst='USD', exchange_currency_dictionary=d)\n",
    "\n",
    "currency_converter.convert(10)"
   ]
  }
 ],
 "metadata": {
  "celltoolbar": "Slideshow",
  "kernelspec": {
   "display_name": "Python [conda env:root] *",
   "language": "python",
   "name": "conda-root-py"
  },
  "language_info": {
   "codemirror_mode": {
    "name": "ipython",
    "version": 3
   },
   "file_extension": ".py",
   "mimetype": "text/x-python",
   "name": "python",
   "nbconvert_exporter": "python",
   "pygments_lexer": "ipython3",
   "version": "3.9.12"
  }
 },
 "nbformat": 4,
 "nbformat_minor": 5
}
